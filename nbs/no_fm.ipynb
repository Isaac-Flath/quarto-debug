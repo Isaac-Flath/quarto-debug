{
 "cells": [
  {
   "cell_type": "markdown",
   "id": "b954374f-a12d-4354-a5c0-96b0dd7e2d19",
   "metadata": {},
   "source": [
    "# Notebook Without Front Matter\n",
    "> This notebook does not have front matter, but a filter will put in there."
   ]
  },
  {
   "cell_type": "markdown",
   "id": "1abc46e9-dca5-4ce3-baac-eaafc41eb647",
   "metadata": {},
   "source": [
    "Lorem ipsum"
   ]
  }
 ],
 "metadata": {
  "kernelspec": {
   "display_name": "Python 3 (ipykernel)",
   "language": "python",
   "name": "python3"
  },
  "language_info": {
   "codemirror_mode": {
    "name": "ipython",
    "version": 3
   },
   "file_extension": ".py",
   "mimetype": "text/x-python",
   "name": "python",
   "nbconvert_exporter": "python",
   "pygments_lexer": "ipython3",
   "version": "3.9.7"
  }
 },
 "nbformat": 4,
 "nbformat_minor": 5
}
