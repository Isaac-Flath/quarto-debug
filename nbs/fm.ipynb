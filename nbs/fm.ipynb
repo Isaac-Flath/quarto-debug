{
 "cells": [
  {
   "cell_type": "raw",
   "id": "cfd07eba-dc90-4537-bbee-a4b600c453f6",
   "metadata": {},
   "source": [
    "---\n",
    "title: nb with front matter\n",
    "description: this notebook has front matter already\n",
    "---"
   ]
  }
 ],
 "metadata": {
  "kernelspec": {
   "display_name": "Python 3 (ipykernel)",
   "language": "python",
   "name": "python3"
  },
  "language_info": {
   "codemirror_mode": {
    "name": "ipython",
    "version": 3
   },
   "file_extension": ".py",
   "mimetype": "text/x-python",
   "name": "python",
   "nbconvert_exporter": "python",
   "pygments_lexer": "ipython3",
   "version": "3.9.7"
  }
 },
 "nbformat": 4,
 "nbformat_minor": 5
}
